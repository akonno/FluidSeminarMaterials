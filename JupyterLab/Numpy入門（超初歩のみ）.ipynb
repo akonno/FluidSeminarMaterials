{
 "cells": [
  {
   "cell_type": "markdown",
   "metadata": {
    "id": "U1z1DjEI01Iu"
   },
   "source": [
    "# Numpy入門（超初歩のみ）\n",
    "\n",
    "[**Numpy**](https://numpy.org/ja/)はPythonで用いられるオープンソースの数値計算・操作ライブラリである。多次元配列の操作と処理が得意なので、ベクトルや行列などを扱う数学分野（線型代数など）と相性がよく、またその配列に対する数学的操作、たとえば代数計算や三角関数などを提供している。また動作が高速なので、多量のデータを操作するデータサイエンス、機械学習などの分野で重宝される。Pythonが科学技術計算やデータサイエンスの分野で多用されているのは、numpyがあるからだと言うこともできる。\n",
    "\n",
    "Numpyはたいへん多機能なのでこの教材中ですべてを説明することは到底できないが、ごく基本的な機能のみを紹介する。なおこのページは以下のQiita記事を参考にした。\n",
    "\n",
    "[【超初心者向け】Numpy基礎50本ノック](https://qiita.com/moe_713/items/671c8c912f6e8d6c7442)\n",
    "\n",
    "はじめに，もしまだnumpyをインストールしていなければ，以下のコマンドでインストールする。"
   ]
  },
  {
   "cell_type": "code",
   "execution_count": 1,
   "metadata": {
    "editable": true,
    "slideshow": {
     "slide_type": ""
    },
    "tags": []
   },
   "outputs": [
    {
     "name": "stdout",
     "output_type": "stream",
     "text": [
      "Channels:\n",
      " - conda-forge\n",
      "Platform: win-64\n",
      "Collecting package metadata (repodata.json): done\n",
      "Solving environment: done\n",
      "\n",
      "# All requested packages already installed.\n",
      "\n"
     ]
    }
   ],
   "source": [
    "!conda install -y numpy"
   ]
  },
  {
   "cell_type": "markdown",
   "metadata": {
    "editable": true,
    "slideshow": {
     "slide_type": ""
    },
    "tags": []
   },
   "source": [
    "`!conda install ...`でライブラリを追加した後は、matplotlibのときと同じように，ノートブックのメニューのKernel → Restart Kernel を実行せよ．ライブラリのインストールは一度行えばよく，次回利用する際にはこれ以降の操作を行えばよい．\n",
    "\n",
    "numpyがインストールできたら，コードの中でインポートする。\"np\"という名前にしてインポートするのが一般的で，多くのテキストでそのようにしているので，ここでもその流儀に従うことにする．"
   ]
  },
  {
   "cell_type": "code",
   "execution_count": 3,
   "metadata": {
    "id": "aUzNY_B30yGO"
   },
   "outputs": [],
   "source": [
    "import numpy as np"
   ]
  },
  {
   "cell_type": "markdown",
   "metadata": {
    "editable": true,
    "id": "OVcK7xa-23U2",
    "slideshow": {
     "slide_type": ""
    },
    "tags": []
   },
   "source": [
    "## 配列の作成\n",
    "\n",
    "数値を指定して多次元配列を作ってみよう。まずは1次元の配列、つまりベクトルに相当するものを作る。数値は$(1, 2, 3, 4, 5)$としよう。"
   ]
  },
  {
   "cell_type": "code",
   "execution_count": 4,
   "metadata": {
    "colab": {
     "base_uri": "https://localhost:8080/"
    },
    "id": "sEWBr6Rk3eRv",
    "outputId": "3e4546de-b96c-49f8-fda9-5fae0280c331"
   },
   "outputs": [
    {
     "name": "stdout",
     "output_type": "stream",
     "text": [
      "[1 2 3 4 5]\n"
     ]
    }
   ],
   "source": [
    "a = np.array([1, 2, 3, 4, 5])\n",
    "print(a)"
   ]
  },
  {
   "cell_type": "markdown",
   "metadata": {
    "id": "73R9bgkm3m_L"
   },
   "source": [
    "次は2次元の配列、つまり行列に相当するものを作る。$\\begin{pmatrix} 1 & 2 & -3 & -6 \\\\ 4 & 5 & -6 & -9 \\\\ 7 & 8 & -9 & -12 \\end{pmatrix}$を作ろう。"
   ]
  },
  {
   "cell_type": "code",
   "execution_count": 5,
   "metadata": {
    "colab": {
     "base_uri": "https://localhost:8080/"
    },
    "id": "q0EkmU3z3-8x",
    "outputId": "a130d100-8090-46d9-f4c3-6acb3799ca84"
   },
   "outputs": [
    {
     "name": "stdout",
     "output_type": "stream",
     "text": [
      "[[  1   2  -3  -6]\n",
      " [  4   5  -6  -9]\n",
      " [  7   8  -9 -12]]\n"
     ]
    }
   ],
   "source": [
    "M = np.array([[1, 2, -3, -6], [4, 5, -6, -9], [7, 8, -9, -12]])\n",
    "print(M)"
   ]
  },
  {
   "cell_type": "markdown",
   "metadata": {
    "id": "yl3vM-Si4YMc"
   },
   "source": [
    "数値を直接指定する方法の他に、成分がすべて0の配列や、成分がすべて1の配列を作ることもできる。"
   ]
  },
  {
   "cell_type": "code",
   "execution_count": 6,
   "metadata": {
    "colab": {
     "base_uri": "https://localhost:8080/"
    },
    "id": "gdLuyTKP4krx",
    "outputId": "1cc1ccd9-222b-45cc-c712-142662a48d63"
   },
   "outputs": [
    {
     "name": "stdout",
     "output_type": "stream",
     "text": [
      "[0. 0. 0. 0.]\n",
      "[1. 1. 1. 1.]\n"
     ]
    }
   ],
   "source": [
    "z = np.zeros(4)\n",
    "print(z)\n",
    "o = np.ones(4)\n",
    "print(o)"
   ]
  },
  {
   "cell_type": "markdown",
   "metadata": {
    "id": "FsTF-gZz4r8c"
   },
   "source": [
    "成分がすべて0の2次元配列（行列）や成分がすべて1の2次元配列（行列）を作りたいときは、大きさを「行、列」の順に指定する。"
   ]
  },
  {
   "cell_type": "code",
   "execution_count": 7,
   "metadata": {
    "colab": {
     "base_uri": "https://localhost:8080/"
    },
    "id": "VoOna9XH4486",
    "outputId": "fd2b7ed6-2025-486d-f2ef-1ddd7a24fe64"
   },
   "outputs": [
    {
     "name": "stdout",
     "output_type": "stream",
     "text": [
      "[[0. 0. 0.]\n",
      " [0. 0. 0.]]\n",
      "[[1. 1.]\n",
      " [1. 1.]\n",
      " [1. 1.]]\n"
     ]
    }
   ],
   "source": [
    "Z = np.zeros([2, 3])\n",
    "print(Z)\n",
    "O = np.ones([3, 2])\n",
    "print(O)"
   ]
  },
  {
   "cell_type": "markdown",
   "metadata": {
    "id": "8lL_qIAh5Dgm"
   },
   "source": [
    "「行、列」の順に指定するということは、縦方向、横方向の順に指定することを意味する。つまり**座標軸で言えば$(y,x)$の順に指定**していることになるので注意せよ。Numpyの配列を用いるとき間違えやすいところである。\n",
    "\n",
    "さて零行列を作りたいシチュエーションでは、行数と列数を指定して配列を作るよりも、すでに作られている配列と同じ形の配列を作りたい、というケースがしばしばある。このようなときはzeros_likeを使うことができる。"
   ]
  },
  {
   "cell_type": "code",
   "execution_count": 8,
   "metadata": {
    "colab": {
     "base_uri": "https://localhost:8080/"
    },
    "id": "B1Y7nWNf83_2",
    "outputId": "5e6bc860-df1e-4c4d-dd87-fa85df6cf08d"
   },
   "outputs": [
    {
     "name": "stdout",
     "output_type": "stream",
     "text": [
      "[[0 0 0 0]\n",
      " [0 0 0 0]\n",
      " [0 0 0 0]]\n"
     ]
    }
   ],
   "source": [
    "N = np.zeros_like(M)\n",
    "print(N)"
   ]
  },
  {
   "cell_type": "markdown",
   "metadata": {
    "id": "ngIF-epd88Q6"
   },
   "source": [
    "## 等間隔の数値の列（連番、等差数列）\n",
    "\n",
    "次に、値が規則的に現れる（等間隔の）配列を作ろう。つまり0, 0.1, 0.2, 0.3, …のような数列、数学的な言い方をすると等差数列である。\n",
    "\n",
    "これにはarangeとlinspaceを使う方法があるが、はじめにarangeから紹介する。"
   ]
  },
  {
   "cell_type": "code",
   "execution_count": 9,
   "metadata": {
    "colab": {
     "base_uri": "https://localhost:8080/"
    },
    "id": "b-LJf_ZN5j81",
    "outputId": "695cfac9-58a1-4f53-a0f4-24484312676b"
   },
   "outputs": [
    {
     "name": "stdout",
     "output_type": "stream",
     "text": [
      "[ 0  1  2  3  4  5  6  7  8  9 10 11 12 13 14 15 16 17 18 19 20 21 22 23\n",
      " 24 25 26 27 28 29 30 31 32 33 34 35 36 37 38 39 40 41 42 43 44 45 46 47\n",
      " 48 49 50 51 52 53 54 55 56 57 58 59 60 61 62 63 64 65 66 67 68 69 70 71\n",
      " 72 73 74 75 76 77 78 79 80 81 82 83 84 85 86 87 88 89 90 91 92 93 94 95\n",
      " 96 97 98 99]\n"
     ]
    }
   ],
   "source": [
    "t = np.arange(0, 100, 1)\n",
    "print(t)"
   ]
  },
  {
   "cell_type": "markdown",
   "metadata": {
    "id": "Wuyuh0AX6sQH"
   },
   "source": [
    "上の例では0～100までの数値を1おきに並べたものを作っている。**arandeでは末尾の数値を含まない配列を作る。**上記の例では100は含まれない。\n",
    "\n",
    "arangeの範囲などを表す数値は実数（浮動小数点数）で指定することもできる。"
   ]
  },
  {
   "cell_type": "code",
   "execution_count": 10,
   "metadata": {
    "colab": {
     "base_uri": "https://localhost:8080/"
    },
    "id": "oXcK5Mvr69Vl",
    "outputId": "04c55115-a2d3-42d3-dcec-d1129be5a016"
   },
   "outputs": [
    {
     "name": "stdout",
     "output_type": "stream",
     "text": [
      "[0.  0.1 0.2 0.3 0.4 0.5 0.6 0.7 0.8 0.9 1.  1.1 1.2 1.3 1.4 1.5 1.6 1.7\n",
      " 1.8 1.9 2.  2.1 2.2 2.3 2.4 2.5 2.6 2.7 2.8 2.9 3.  3.1 3.2 3.3 3.4 3.5\n",
      " 3.6 3.7 3.8 3.9 4.  4.1 4.2 4.3 4.4 4.5 4.6 4.7 4.8 4.9 5.  5.1 5.2 5.3\n",
      " 5.4 5.5 5.6 5.7 5.8 5.9 6.  6.1 6.2 6.3 6.4 6.5 6.6 6.7 6.8 6.9 7.  7.1\n",
      " 7.2 7.3 7.4 7.5 7.6 7.7 7.8 7.9 8.  8.1 8.2 8.3 8.4 8.5 8.6 8.7 8.8 8.9\n",
      " 9.  9.1 9.2 9.3 9.4 9.5 9.6 9.7 9.8 9.9]\n",
      "100\n"
     ]
    }
   ],
   "source": [
    "t = np.arange(0, 10, 0.1)\n",
    "print(t)\n",
    "print(len(t))"
   ]
  },
  {
   "cell_type": "markdown",
   "metadata": {
    "id": "SzlGgBF5zmXL"
   },
   "source": [
    "次にlinspaceを使ってみよう。linspaceは値の間隔（幅）ではなく、その値の間を何個の点に分割するかを指定する。"
   ]
  },
  {
   "cell_type": "code",
   "execution_count": 11,
   "metadata": {
    "colab": {
     "base_uri": "https://localhost:8080/"
    },
    "id": "nqecZN_F0D1w",
    "outputId": "11085d22-698f-4504-ecf8-c27d9eee83ca"
   },
   "outputs": [
    {
     "name": "stdout",
     "output_type": "stream",
     "text": [
      "[ 0.          0.1010101   0.2020202   0.3030303   0.4040404   0.50505051\n",
      "  0.60606061  0.70707071  0.80808081  0.90909091  1.01010101  1.11111111\n",
      "  1.21212121  1.31313131  1.41414141  1.51515152  1.61616162  1.71717172\n",
      "  1.81818182  1.91919192  2.02020202  2.12121212  2.22222222  2.32323232\n",
      "  2.42424242  2.52525253  2.62626263  2.72727273  2.82828283  2.92929293\n",
      "  3.03030303  3.13131313  3.23232323  3.33333333  3.43434343  3.53535354\n",
      "  3.63636364  3.73737374  3.83838384  3.93939394  4.04040404  4.14141414\n",
      "  4.24242424  4.34343434  4.44444444  4.54545455  4.64646465  4.74747475\n",
      "  4.84848485  4.94949495  5.05050505  5.15151515  5.25252525  5.35353535\n",
      "  5.45454545  5.55555556  5.65656566  5.75757576  5.85858586  5.95959596\n",
      "  6.06060606  6.16161616  6.26262626  6.36363636  6.46464646  6.56565657\n",
      "  6.66666667  6.76767677  6.86868687  6.96969697  7.07070707  7.17171717\n",
      "  7.27272727  7.37373737  7.47474747  7.57575758  7.67676768  7.77777778\n",
      "  7.87878788  7.97979798  8.08080808  8.18181818  8.28282828  8.38383838\n",
      "  8.48484848  8.58585859  8.68686869  8.78787879  8.88888889  8.98989899\n",
      "  9.09090909  9.19191919  9.29292929  9.39393939  9.49494949  9.5959596\n",
      "  9.6969697   9.7979798   9.8989899  10.        ]\n",
      "100\n"
     ]
    }
   ],
   "source": [
    "t2 = np.linspace(0, 10, 100)\n",
    "print(t2)\n",
    "print(len(t2))"
   ]
  },
  {
   "cell_type": "markdown",
   "metadata": {
    "id": "0F1vWKST035G"
   },
   "source": [
    "上の例は0～10を100点に分割したのだが、想像とは異なる値の数列になったのではないか。この数列は0と10を含み、それを含めて0～10の間を100点に分割するので、その間隔は$\\frac{10}{100}$ではなく$\\frac{10}{99}$である。arangeは末尾の数値が含まれないが、**linspaceは末尾の数値を含めた配列を作る**ことに注意せよ。"
   ]
  },
  {
   "cell_type": "markdown",
   "metadata": {
    "id": "IE7d7Cyc7Qij"
   },
   "source": [
    "## 配列の操作\n",
    "\n",
    "配列の次元や要素数、成分の型、特定の成分の値などを調べることができる。\n",
    "\n",
    "まずは先ほど生成した行列（多次元配列）Mの次元を調べてみる。"
   ]
  },
  {
   "cell_type": "code",
   "execution_count": 12,
   "metadata": {
    "colab": {
     "base_uri": "https://localhost:8080/"
    },
    "id": "R9ZxrzTy7kNi",
    "outputId": "edcc9398-1247-4edb-89ba-ac371db4c86a"
   },
   "outputs": [
    {
     "data": {
      "text/plain": [
       "2"
      ]
     },
     "execution_count": 12,
     "metadata": {},
     "output_type": "execute_result"
    }
   ],
   "source": [
    "M.ndim"
   ]
  },
  {
   "cell_type": "markdown",
   "metadata": {
    "id": "Lc7ByZrX7qsU"
   },
   "source": [
    "次に、行列Mの要素数を確認しよう。"
   ]
  },
  {
   "cell_type": "code",
   "execution_count": 13,
   "metadata": {
    "colab": {
     "base_uri": "https://localhost:8080/"
    },
    "id": "YL4KXwVB7yVX",
    "outputId": "c30f3c58-6a7c-4556-aace-6150242a93ae"
   },
   "outputs": [
    {
     "data": {
      "text/plain": [
       "12"
      ]
     },
     "execution_count": 13,
     "metadata": {},
     "output_type": "execute_result"
    }
   ],
   "source": [
    "M.size"
   ]
  },
  {
   "cell_type": "markdown",
   "metadata": {
    "id": "WG1MrC8H71D_"
   },
   "source": [
    "```M.size```では要素数（行×列数）は分かるが、Mが何行何列の行列かは分からない。これを知るにはshapeを用いる。"
   ]
  },
  {
   "cell_type": "code",
   "execution_count": 14,
   "metadata": {
    "colab": {
     "base_uri": "https://localhost:8080/"
    },
    "id": "ejEsddQ78FTI",
    "outputId": "564fed93-9bce-4e2c-ee94-6fd6f75b10e6"
   },
   "outputs": [
    {
     "data": {
      "text/plain": [
       "(3, 4)"
      ]
     },
     "execution_count": 14,
     "metadata": {},
     "output_type": "execute_result"
    }
   ],
   "source": [
    "M.shape"
   ]
  },
  {
   "cell_type": "markdown",
   "metadata": {
    "id": "a3QmCffU9MaS"
   },
   "source": [
    "前に述べたことのくり返しになるが、numpyでは「行、列」の順で数値を指定する。この場合も「行、列」の順で数値が返されることが分かる。\n",
    "\n",
    "成分の型を確認してみよう。"
   ]
  },
  {
   "cell_type": "code",
   "execution_count": 15,
   "metadata": {
    "colab": {
     "base_uri": "https://localhost:8080/"
    },
    "id": "deMBvsmg9c1S",
    "outputId": "b89ec33e-70f4-4a89-8e6e-cc7de10dc3db"
   },
   "outputs": [
    {
     "data": {
      "text/plain": [
       "dtype('int64')"
      ]
     },
     "execution_count": 15,
     "metadata": {},
     "output_type": "execute_result"
    }
   ],
   "source": [
    "M.dtype"
   ]
  },
  {
   "cell_type": "markdown",
   "metadata": {
    "id": "SFq1_xtQ9gl5"
   },
   "source": [
    "Mの成分はint64（64ビット整数）として格納されていることが分かった。\n",
    "\n",
    "配列の要素（行列の成分）を直接指定して値を得ることもできる。$M_{ij}$にあたる要素は```M[i,j]```で取り出せる。ただし数学の時間に倣った番号付けとは異なり、先頭の行は0行目、先頭の列は0列目であるので注意せよ。"
   ]
  },
  {
   "cell_type": "code",
   "execution_count": 16,
   "metadata": {
    "colab": {
     "base_uri": "https://localhost:8080/"
    },
    "id": "MSgbtmZ092CC",
    "outputId": "c3eba18d-d3cb-42c7-cb65-2654a3a3764a"
   },
   "outputs": [
    {
     "name": "stdout",
     "output_type": "stream",
     "text": [
      "-12\n"
     ]
    }
   ],
   "source": [
    "print(M[2, 3])"
   ]
  },
  {
   "cell_type": "markdown",
   "metadata": {
    "id": "zMzqxhes-Frj"
   },
   "source": [
    "上記のように、$M_{2,3}$の値は$-12$と返される。$M=\\begin{pmatrix} 1 & 2 & -3 & -6 \\\\ 4 & 5 & -6 & -9 \\\\ 7 & 8 & -9 & -12 \\end{pmatrix}$という行列だったことを思い出そう。$-12$は行列$M$の（数学の際の数え方では）2行3列の位置ではなく3行4列の位置の値である。これは行が0，1，2行目、列が0，1，2，3行目と指定されているためである。\n",
    "\n",
    "配列の形を3行4列から2行6列に変換してみよう。"
   ]
  },
  {
   "cell_type": "code",
   "execution_count": 17,
   "metadata": {
    "colab": {
     "base_uri": "https://localhost:8080/"
    },
    "id": "GTn4ETM4-o2C",
    "outputId": "b88e3819-fdc5-486c-cd3d-7171d399da02"
   },
   "outputs": [
    {
     "name": "stdout",
     "output_type": "stream",
     "text": [
      "[[  1   2  -3  -6   4   5]\n",
      " [ -6  -9   7   8  -9 -12]]\n"
     ]
    }
   ],
   "source": [
    "N = M.reshape([2,6])\n",
    "print(N)"
   ]
  },
  {
   "cell_type": "markdown",
   "metadata": {
    "id": "RWRWlMqk-4KJ"
   },
   "source": [
    "上の例のように、行列Mの1行目の値、2行目の値、…を順に2×6の行列に詰め込んだものが返される。\n",
    "\n",
    "多次元配列を1次元の配列に変換するには、ravelやflattenを使うことができる。"
   ]
  },
  {
   "cell_type": "code",
   "execution_count": 18,
   "metadata": {
    "colab": {
     "base_uri": "https://localhost:8080/"
    },
    "id": "jjncsh8Q_F5w",
    "outputId": "46c4bdee-3d00-4015-9c87-d965c12831e2"
   },
   "outputs": [
    {
     "name": "stdout",
     "output_type": "stream",
     "text": [
      "[  1   2  -3  -6   4   5  -6  -9   7   8  -9 -12]\n"
     ]
    }
   ],
   "source": [
    "F = M.ravel()\n",
    "print(F)"
   ]
  },
  {
   "cell_type": "markdown",
   "metadata": {
    "id": "BsQJwjJUBQBo"
   },
   "source": [
    "### 補遺：zerosとzeros_likeのデータ型\n",
    "\n",
    "zerosの成分の型はfloat64となる。これは64ビットの浮動小数点数を表す。"
   ]
  },
  {
   "cell_type": "code",
   "execution_count": 19,
   "metadata": {
    "colab": {
     "base_uri": "https://localhost:8080/"
    },
    "id": "bIAg9aBABcWM",
    "outputId": "3281cce2-c777-4f3c-a25e-06b3280aacf6"
   },
   "outputs": [
    {
     "data": {
      "text/plain": [
       "dtype('float64')"
      ]
     },
     "execution_count": 19,
     "metadata": {},
     "output_type": "execute_result"
    }
   ],
   "source": [
    "Z.dtype"
   ]
  },
  {
   "cell_type": "markdown",
   "metadata": {
    "id": "GxmP4nWKBf-P"
   },
   "source": [
    "zeros_likeの成分の型は、与えた（形を真似させた）行列と同じになる。つまりzeros_likeは行列の形だけでなく、成分の変数の型も真似する。"
   ]
  },
  {
   "cell_type": "code",
   "execution_count": 20,
   "metadata": {
    "colab": {
     "base_uri": "https://localhost:8080/"
    },
    "id": "IIVwdTZGBri8",
    "outputId": "a29354b7-083d-44e4-891a-ed5790bdc498"
   },
   "outputs": [
    {
     "name": "stdout",
     "output_type": "stream",
     "text": [
      "[0 0 0]\n",
      "int64\n",
      "[0. 0. 0.]\n",
      "float64\n"
     ]
    }
   ],
   "source": [
    "i = np.array([1, 2, 3])\n",
    "zi = np.zeros_like(i)\n",
    "print(zi)\n",
    "print(zi.dtype)\n",
    "\n",
    "f = np.array([1., 2., 3.])\n",
    "zf = np.zeros_like(f)\n",
    "print(zf)\n",
    "print(zf.dtype)"
   ]
  },
  {
   "cell_type": "markdown",
   "metadata": {
    "id": "qxX4wpyyCKG7"
   },
   "source": [
    "浮動小数点数の成分は、printしたとき```1.```のように小数点をつけて表現されているのが分かるだろうか。これが整数ではなく浮動小数点であることを表している。"
   ]
  },
  {
   "cell_type": "markdown",
   "metadata": {
    "id": "yrUEHnyx_2N6"
   },
   "source": [
    "## 配列に対する四則演算と初等関数\n",
    "\n",
    "加減乗除は```+```、```-```、```*```、```/```で表す。この演算は成分ごとの演算であり、特に配列（行列）の積の場合は線型代数の積ではないことに注意せよ。また配列の形が異なると加減乗除はできない。"
   ]
  },
  {
   "cell_type": "code",
   "execution_count": 21,
   "metadata": {
    "colab": {
     "base_uri": "https://localhost:8080/"
    },
    "id": "bfxeRjvhDeyB",
    "outputId": "3fb07b56-0b2a-48fc-ca37-9945991de7d8"
   },
   "outputs": [
    {
     "name": "stdout",
     "output_type": "stream",
     "text": [
      "[[4 6]\n",
      " [1 1]]\n",
      "[[-2 -2]\n",
      " [-3 -5]]\n",
      "[[ 3  8]\n",
      " [-2 -6]]\n",
      "[[ 0.33333333  0.5       ]\n",
      " [-0.5        -0.66666667]]\n"
     ]
    }
   ],
   "source": [
    "a = np.array([[ 1, 2 ], [ -1, -2 ]])\n",
    "b = np.array([[ 3, 4 ], [ 2, 3 ]])\n",
    "print(a+b)\n",
    "print(a-b)\n",
    "print(a*b)\n",
    "print(a/b)"
   ]
  },
  {
   "cell_type": "markdown",
   "metadata": {
    "id": "70PujFAeD5n8"
   },
   "source": [
    "次の例は配列の形が異なる場合の足し算をしている。（エラーが出る。）"
   ]
  },
  {
   "cell_type": "code",
   "execution_count": 22,
   "metadata": {
    "colab": {
     "base_uri": "https://localhost:8080/",
     "height": 238
    },
    "id": "3U6wxG8zEB7Z",
    "outputId": "9144d4d8-0b96-4bff-c9fb-60545ab023ac"
   },
   "outputs": [
    {
     "name": "stdout",
     "output_type": "stream",
     "text": [
      "[[ 1  2 -1 -2]]\n"
     ]
    },
    {
     "ename": "ValueError",
     "evalue": "operands could not be broadcast together with shapes (2,2) (1,4) ",
     "output_type": "error",
     "traceback": [
      "\u001b[31m---------------------------------------------------------------------------\u001b[39m",
      "\u001b[31mValueError\u001b[39m                                Traceback (most recent call last)",
      "\u001b[36mCell\u001b[39m\u001b[36m \u001b[39m\u001b[32mIn[22]\u001b[39m\u001b[32m, line 3\u001b[39m\n\u001b[32m      1\u001b[39m c = np.reshape(a, [\u001b[32m1\u001b[39m, \u001b[32m4\u001b[39m])\n\u001b[32m      2\u001b[39m \u001b[38;5;28mprint\u001b[39m(c)\n\u001b[32m----> \u001b[39m\u001b[32m3\u001b[39m \u001b[38;5;28mprint\u001b[39m(\u001b[43ma\u001b[49m\u001b[43m+\u001b[49m\u001b[43mc\u001b[49m)  \u001b[38;5;66;03m# エラーが出る。\u001b[39;00m\n",
      "\u001b[31mValueError\u001b[39m: operands could not be broadcast together with shapes (2,2) (1,4) "
     ]
    }
   ],
   "source": [
    "c = np.reshape(a, [1, 4])\n",
    "print(c)\n",
    "print(a+c)  # エラーが出る。"
   ]
  },
  {
   "cell_type": "markdown",
   "metadata": {
    "id": "-pxj4rB7EOFm"
   },
   "source": [
    "行列積（成分ごとの積ではなく、線型代数の積）は```np.dot()```を使って計算できる。"
   ]
  },
  {
   "cell_type": "code",
   "execution_count": 23,
   "metadata": {
    "colab": {
     "base_uri": "https://localhost:8080/"
    },
    "id": "ICMVq-9eEaMd",
    "outputId": "c967ebe8-f275-4804-d9a0-ad13107556e3"
   },
   "outputs": [
    {
     "name": "stdout",
     "output_type": "stream",
     "text": [
      "[[  7  10]\n",
      " [ -7 -10]]\n"
     ]
    }
   ],
   "source": [
    "P = np.dot(a, b)\n",
    "print(P)"
   ]
  },
  {
   "cell_type": "markdown",
   "metadata": {
    "id": "j40UcEBsEqVb"
   },
   "source": [
    "配列の値ぜんぶの平方根（ルート）や、サイン、コサインなどを計算することができる。"
   ]
  },
  {
   "cell_type": "code",
   "execution_count": 24,
   "metadata": {
    "colab": {
     "base_uri": "https://localhost:8080/"
    },
    "id": "IkLROIMCE3X7",
    "outputId": "217f63ec-60d1-46fd-e150-276db0e8fe34"
   },
   "outputs": [
    {
     "name": "stdout",
     "output_type": "stream",
     "text": [
      "[ 1.00000000e+00  9.65925826e-01  8.66025404e-01  7.07106781e-01\n",
      "  5.00000000e-01  2.58819045e-01  6.12323400e-17 -2.58819045e-01\n",
      " -5.00000000e-01 -7.07106781e-01 -8.66025404e-01 -9.65925826e-01\n",
      " -1.00000000e+00 -9.65925826e-01 -8.66025404e-01 -7.07106781e-01\n",
      " -5.00000000e-01 -2.58819045e-01 -1.83697020e-16  2.58819045e-01\n",
      "  5.00000000e-01  7.07106781e-01  8.66025404e-01  9.65925826e-01]\n",
      "[ 0.00000000e+00  2.58819045e-01  5.00000000e-01  7.07106781e-01\n",
      "  8.66025404e-01  9.65925826e-01  1.00000000e+00  9.65925826e-01\n",
      "  8.66025404e-01  7.07106781e-01  5.00000000e-01  2.58819045e-01\n",
      "  1.22464680e-16 -2.58819045e-01 -5.00000000e-01 -7.07106781e-01\n",
      " -8.66025404e-01 -9.65925826e-01 -1.00000000e+00 -9.65925826e-01\n",
      " -8.66025404e-01 -7.07106781e-01 -5.00000000e-01 -2.58819045e-01]\n"
     ]
    }
   ],
   "source": [
    "t = np.arange(0, 2*np.pi, np.pi/12)\n",
    "cost = np.cos(t)\n",
    "print(cost)\n",
    "sint = np.sin(t)\n",
    "print(sint)"
   ]
  },
  {
   "cell_type": "markdown",
   "metadata": {
    "id": "fpEd6qRnFQJW"
   },
   "source": [
    "計算結果が正しいか（三角関数になっているか）、グラフを描いて確認してみる。"
   ]
  },
  {
   "cell_type": "code",
   "execution_count": 25,
   "metadata": {
    "colab": {
     "base_uri": "https://localhost:8080/",
     "height": 430
    },
    "id": "68nonmuBFWvg",
    "outputId": "3a71deb8-1259-45fc-e782-3de6c532feff"
   },
   "outputs": [
    {
     "data": {
      "image/png": "[encoded data removed]",
      "text/plain": [
       "<Figure size 640x480 with 1 Axes>"
      ]
     },
     "metadata": {},
     "output_type": "display_data"
    }
   ],
   "source": [
    "import matplotlib.pyplot as plt\n",
    "\n",
    "plt.plot(t, cost)\n",
    "plt.plot(t, sint)\n",
    "plt.show()"
   ]
  },
  {
   "cell_type": "markdown",
   "metadata": {
    "id": "BB3OPaM83j1C"
   },
   "source": [
    "この他にも、いわゆる初等関数はひととおり用意されている。\n",
    "\n",
    "* abs（絶対値） ```np.abs(x)```$=|x|$\n",
    "* sqrt（平方根）```np.sqrt(x)```$=\\sqrt{x}$\n",
    "* exp（指数関数）```np.exp(x)```$=e^x$\n",
    "* log（自然対数）```np.log(x)```$=\\log_e x$\n",
    "* cos, sin, tan（三角関数）\n"
   ]
  },
  {
   "cell_type": "markdown",
   "metadata": {
    "id": "6PkSikVh4jqH"
   },
   "source": [
    "## 統計量（要約統計量）\n",
    "\n",
    "平均、標準偏差、最大値、最小値などの要約統計量を求めるための関数も用意されている。"
   ]
  },
  {
   "cell_type": "code",
   "execution_count": 26,
   "metadata": {
    "colab": {
     "base_uri": "https://localhost:8080/"
    },
    "id": "vWfd---PHHaZ",
    "outputId": "4e6c994b-f50c-477b-fe52-221a7857587b"
   },
   "outputs": [
    {
     "name": "stdout",
     "output_type": "stream",
     "text": [
      "最小値:  0.0\n",
      "最大値:  1.0\n",
      "平均値:  0.6139824366232249\n",
      "標準偏差:  0.35075000715353866\n",
      "要素の合計:  4.297877056362575\n"
     ]
    }
   ],
   "source": [
    "theta = np.linspace(0, np.pi/2, 7)\n",
    "s = np.sin(theta)\n",
    "print('最小値: ', np.min(s))\n",
    "print('最大値: ', np.max(s))\n",
    "print('平均値: ', np.mean(s))\n",
    "print('標準偏差: ', np.std(s))\n",
    "print('要素の合計: ', np.sum(s))"
   ]
  },
  {
   "cell_type": "markdown",
   "metadata": {
    "editable": true,
    "id": "mgE7CNfGKdhX",
    "slideshow": {
     "slide_type": ""
    },
    "tags": []
   },
   "source": [
    "# 課題（無し）\n",
    "\n",
    "この教材では課題を指示しません。"
   ]
  }
 ],
 "metadata": {
  "colab": {
   "provenance": [],
   "toc_visible": true
  },
  "kernelspec": {
   "display_name": "Python 3 (ipykernel)",
   "language": "python",
   "name": "python3"
  },
  "language_info": {
   "codemirror_mode": {
    "name": "ipython",
    "version": 3
   },
   "file_extension": ".py",
   "mimetype": "text/x-python",
   "name": "python",
   "nbconvert_exporter": "python",
   "pygments_lexer": "ipython3",
   "version": "3.13.7"
  }
 },
 "nbformat": 4,
 "nbformat_minor": 4
}
